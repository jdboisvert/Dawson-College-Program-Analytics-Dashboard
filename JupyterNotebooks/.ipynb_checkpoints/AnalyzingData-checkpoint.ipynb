{
 "cells": [
  {
   "cell_type": "markdown",
   "metadata": {},
   "source": [
    "# Analyzing Data For dashboard"
   ]
  },
  {
   "cell_type": "code",
   "execution_count": 1,
   "metadata": {},
   "outputs": [],
   "source": [
    "import json\n",
    "import pandas as pd"
   ]
  },
  {
   "cell_type": "code",
   "execution_count": 2,
   "metadata": {},
   "outputs": [],
   "source": [
    "# Read data scraped\n",
    "\n",
    "with open('data/dawson_data.json', 'r') as f:\n",
    "    data = json.loads(f.read())"
   ]
  },
  {
   "cell_type": "code",
   "execution_count": 3,
   "metadata": {},
   "outputs": [],
   "source": [
    "#Convert data to dataframe for easier time for stats\n",
    "df = pd.DataFrame(data)"
   ]
  },
  {
   "cell_type": "code",
   "execution_count": 4,
   "metadata": {},
   "outputs": [],
   "source": [
    "#Change date to actual Timestamp type\n",
    "df ['date'] = pd.to_datetime(df['date'])"
   ]
  },
  {
   "cell_type": "code",
   "execution_count": 5,
   "metadata": {},
   "outputs": [
    {
     "data": {
      "text/plain": [
       "76"
      ]
     },
     "execution_count": 5,
     "metadata": {},
     "output_type": "execute_result"
    }
   ],
   "source": [
    "#First get number of different things offered at Dawson\n",
    "totalOffered = len(df)\n",
    "totalOffered"
   ]
  },
  {
   "cell_type": "code",
   "execution_count": 6,
   "metadata": {},
   "outputs": [],
   "source": [
    "# Gets amount of given type\n",
    "def getNumberOfType(wantedType):\n",
    "    #Get number of programs\n",
    "    mask = df['type'] == wantedType\n",
    "    number = len(df[mask])\n",
    "    return number"
   ]
  },
  {
   "cell_type": "code",
   "execution_count": 7,
   "metadata": {},
   "outputs": [],
   "source": [
    "#Main stats of amounts\n",
    "numberPrograms = getNumberOfType('Program')\n",
    "numberProfiles = getNumberOfType('Profile')\n",
    "numberDisciplines = getNumberOfType('Discipline')\n",
    "numberSpecial = getNumberOfType('Special Area of Study')\n",
    "numberGeneral = getNumberOfType('General Education')"
   ]
  },
  {
   "cell_type": "code",
   "execution_count": 8,
   "metadata": {},
   "outputs": [
    {
     "data": {
      "text/plain": [
       "2018    35\n",
       "2019    30\n",
       "2014     4\n",
       "2015     3\n",
       "2017     2\n",
       "2016     2\n",
       "Name: year, dtype: int64"
      ]
     },
     "execution_count": 8,
     "metadata": {},
     "output_type": "execute_result"
    }
   ],
   "source": [
    "#Add just year to column\n",
    "year = []\n",
    "for date in df['date']:\n",
    "    year.append(date.year)\n",
    "    \n",
    "df['year'] = year\n",
    "\n",
    "yearCounts = df['year'].value_counts()\n",
    "yearCounts"
   ]
  },
  {
   "cell_type": "code",
   "execution_count": 9,
   "metadata": {},
   "outputs": [
    {
     "data": {
      "text/plain": [
       "<matplotlib.axes._subplots.AxesSubplot at 0x1ae81f8e668>"
      ]
     },
     "execution_count": 9,
     "metadata": {},
     "output_type": "execute_result"
    }
   ],
   "source": [
    "# Quick look at when were most programs updated\n",
    "yearCounts.plot.pie()"
   ]
  },
  {
   "cell_type": "code",
   "execution_count": 10,
   "metadata": {},
   "outputs": [
    {
     "data": {
      "text/html": [
       "<div>\n",
       "<style scoped>\n",
       "    .dataframe tbody tr th:only-of-type {\n",
       "        vertical-align: middle;\n",
       "    }\n",
       "\n",
       "    .dataframe tbody tr th {\n",
       "        vertical-align: top;\n",
       "    }\n",
       "\n",
       "    .dataframe thead th {\n",
       "        text-align: right;\n",
       "    }\n",
       "</style>\n",
       "<table border=\"1\" class=\"dataframe\">\n",
       "  <thead>\n",
       "    <tr style=\"text-align: right;\">\n",
       "      <th></th>\n",
       "      <th>date</th>\n",
       "      <th>programName</th>\n",
       "      <th>type</th>\n",
       "    </tr>\n",
       "  </thead>\n",
       "  <tbody>\n",
       "    <tr>\n",
       "      <th>0</th>\n",
       "      <td>2019-06-21</td>\n",
       "      <td>Nursing</td>\n",
       "      <td>Program</td>\n",
       "    </tr>\n",
       "    <tr>\n",
       "      <th>1</th>\n",
       "      <td>2019-06-19</td>\n",
       "      <td>Psychology</td>\n",
       "      <td>Profile</td>\n",
       "    </tr>\n",
       "    <tr>\n",
       "      <th>2</th>\n",
       "      <td>2019-06-19</td>\n",
       "      <td>New School</td>\n",
       "      <td>Special Area of Study</td>\n",
       "    </tr>\n",
       "    <tr>\n",
       "      <th>3</th>\n",
       "      <td>2019-06-19</td>\n",
       "      <td>English</td>\n",
       "      <td>General Education</td>\n",
       "    </tr>\n",
       "    <tr>\n",
       "      <th>4</th>\n",
       "      <td>2019-06-19</td>\n",
       "      <td>Multidisciplinary (Methods &amp; Others)</td>\n",
       "      <td>Discipline</td>\n",
       "    </tr>\n",
       "  </tbody>\n",
       "</table>\n",
       "</div>"
      ],
      "text/plain": [
       "        date                           programName                   type\n",
       "0 2019-06-21                               Nursing                Program\n",
       "1 2019-06-19                            Psychology                Profile\n",
       "2 2019-06-19                            New School  Special Area of Study\n",
       "3 2019-06-19                               English      General Education\n",
       "4 2019-06-19  Multidisciplinary (Methods & Others)             Discipline"
      ]
     },
     "execution_count": 10,
     "metadata": {},
     "output_type": "execute_result"
    }
   ],
   "source": [
    "#Now programs sorted by \n",
    "newest = df.sort_values(by='date', ascending=False)\n",
    "newest = (newest.drop('year', axis=1)).reset_index(drop=True)\n",
    "newest.head()"
   ]
  },
  {
   "cell_type": "markdown",
   "metadata": {},
   "source": [
    "## Dumping data into program stats"
   ]
  },
  {
   "cell_type": "code",
   "execution_count": 112,
   "metadata": {},
   "outputs": [],
   "source": [
    "programStats = {\n",
    "    \n",
    "    'Total' : totalOffered,\n",
    "    'Number of Programs' : numberPrograms,\n",
    "    'Number of Profiles' : numberProfiles,\n",
    "    'Number of Disciplines' : numberDisciplines,\n",
    "    'Number of Special' : numberSpecial,\n",
    "    'Number of General' : numberGeneral,\n",
    "    'Year Counts' : yearCounts.to_json(),\n",
    "    'Programs ordered newest' : newest.to_json()\n",
    "    \n",
    "}\n",
    "\n",
    "with open('data/dawson_programs_stats.json', 'w') as f:\n",
    "    json.dump(programStats, f)"
   ]
  }
 ],
 "metadata": {
  "kernelspec": {
   "display_name": "Python 3",
   "language": "python",
   "name": "python3"
  },
  "language_info": {
   "codemirror_mode": {
    "name": "ipython",
    "version": 3
   },
   "file_extension": ".py",
   "mimetype": "text/x-python",
   "name": "python",
   "nbconvert_exporter": "python",
   "pygments_lexer": "ipython3",
   "version": "3.7.1"
  }
 },
 "nbformat": 4,
 "nbformat_minor": 2
}
