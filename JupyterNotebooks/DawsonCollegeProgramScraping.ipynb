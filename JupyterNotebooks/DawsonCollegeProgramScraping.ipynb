{
 "cells": [
  {
   "cell_type": "markdown",
   "metadata": {},
   "source": [
    "# Web Scaping"
   ]
  },
  {
   "cell_type": "markdown",
   "metadata": {},
   "source": [
    "## Scraping a single page - Tests"
   ]
  },
  {
   "cell_type": "code",
   "execution_count": 1,
   "metadata": {},
   "outputs": [],
   "source": [
    "import requests\n",
    "from bs4 import BeautifulSoup\n",
    "from dateutil import parser "
   ]
  },
  {
   "cell_type": "code",
   "execution_count": 2,
   "metadata": {},
   "outputs": [],
   "source": [
    "#This is just to make it so the request goes through and the Dawson website does not decline it \n",
    "headers = {\n",
    "    'user-agent': 'Mozilla/5.0 (Macintosh; Intel Mac OS X 10_11_6) AppleWebKit/537.36 (KHTML, like Gecko) Chrome/56.0.2924.87 Safari/537.36',\n",
    "    'referrer': 'https://google.com'\n",
    "}"
   ]
  },
  {
   "cell_type": "code",
   "execution_count": 3,
   "metadata": {},
   "outputs": [],
   "source": [
    "# URL of program page for pure and applied\n",
    "url = 'https://www.dawsoncollege.qc.ca/pure-applied/'\n",
    "r = requests.get(url, headers=headers)"
   ]
  },
  {
   "cell_type": "code",
   "execution_count": 4,
   "metadata": {},
   "outputs": [
    {
     "data": {
      "text/plain": [
       "200"
      ]
     },
     "execution_count": 4,
     "metadata": {},
     "output_type": "execute_result"
    }
   ],
   "source": [
    "# Status code is 200 means all is good and request went through\n",
    "r.status_code"
   ]
  },
  {
   "cell_type": "code",
   "execution_count": 5,
   "metadata": {},
   "outputs": [],
   "source": [
    "# Get HTML of the page\n",
    "html = r.text.strip()"
   ]
  },
  {
   "cell_type": "code",
   "execution_count": 6,
   "metadata": {},
   "outputs": [],
   "source": [
    "# Make html of page a BeautifulSoup \n",
    "soup = BeautifulSoup(html, 'lxml')"
   ]
  },
  {
   "cell_type": "code",
   "execution_count": 7,
   "metadata": {},
   "outputs": [],
   "source": [
    "# Header Content of page\n",
    "content = soup.find(class_='entry-content')\n",
    "#Get program title and strip any white spaces\n",
    "programTitle = content.find('h2').contents[0].strip()"
   ]
  },
  {
   "cell_type": "code",
   "execution_count": 8,
   "metadata": {},
   "outputs": [
    {
     "name": "stdout",
     "output_type": "stream",
     "text": [
      "August 8, 2018\n"
     ]
    }
   ],
   "source": [
    "# Get when last modified\n",
    "dateModified = soup.find(class_='page-mod-date').contents[0].strip()\n",
    "# Remove the 'Last Modified: ' field so just date is left\n",
    "dateModified = dateModified[15:]\n",
    "print(dateModified)"
   ]
  },
  {
   "cell_type": "markdown",
   "metadata": {},
   "source": [
    "## Function to parse a single page"
   ]
  },
  {
   "cell_type": "code",
   "execution_count": 14,
   "metadata": {},
   "outputs": [],
   "source": [
    "# Parse a single Program page at Dawson College\n",
    "def parseProgramPage(url):\n",
    "    \n",
    "    #This is just to make it so the request goes through and the Dawson website does not decline it \n",
    "    headers = {\n",
    "    'user-agent': 'Mozilla/5.0 (Macintosh; Intel Mac OS X 10_11_6) AppleWebKit/537.36 (KHTML, like Gecko) Chrome/56.0.2924.87 Safari/537.36',\n",
    "    'referrer': 'https://google.com'\n",
    "    }\n",
    "    \n",
    "    # URL of program page for pure and applied\n",
    "    r = requests.get(url, headers=headers)\n",
    "    \n",
    "    if (r.status_code == requests.codes.ok):\n",
    "    \n",
    "        # Get HTML of the page\n",
    "        html = r.text.strip()\n",
    "\n",
    "        # Make html of page a BeautifulSoup \n",
    "        soup = BeautifulSoup(html, 'lxml')\n",
    "    \n",
    "        programDateMod = getDateOfMods(soup)\n",
    "    \n",
    "        #Page data to be returned\n",
    "        pageData = {\n",
    "            'date': programDateMod\n",
    "        }\n",
    "    \n",
    "        return pageData\n",
    "    else: \n",
    "        return '404'\n",
    "\n",
    "#Get the date of when the page was last modified\n",
    "def getDateOfMods(soup):\n",
    "    # Get when last modified\n",
    "    dateModified = soup.find(class_='page-mod-date').contents[0].strip()\n",
    "    # Remove the 'Last Modified: ' field so just date is left\n",
    "    dateModified = dateModified[15:]\n",
    "    return dateModified\n",
    "    "
   ]
  },
  {
   "cell_type": "markdown",
   "metadata": {},
   "source": [
    "## Functions to parse all of the programs"
   ]
  },
  {
   "cell_type": "code",
   "execution_count": 15,
   "metadata": {},
   "outputs": [],
   "source": [
    "# An array to hold all the programs retrieved\n",
    "programs = []"
   ]
  },
  {
   "cell_type": "markdown",
   "metadata": {},
   "source": [
    "### Testing"
   ]
  },
  {
   "cell_type": "code",
   "execution_count": null,
   "metadata": {},
   "outputs": [
    {
     "name": "stdout",
     "output_type": "stream",
     "text": [
      "{'date': 'October 12, 2018', 'type': 'Program', 'programName': '3D Animation & Computer Generated Imagery'}\n",
      "{'date': 'August 8, 2018', 'type': 'Program', 'programName': 'Accounting and Management Technology'}\n",
      "{'date': 'August 15, 2017', 'type': 'Discipline', 'programName': 'Anthropology'}\n",
      "{'date': 'August 28, 2018', 'type': 'Profile', 'programName': 'Arts and Culture'}\n",
      "{'date': 'April 12, 2019', 'type': 'Program', 'programName': 'Arts, Literature and Communication (ALC)'}\n",
      "{'date': 'June 14, 2018', 'type': 'Discipline', 'programName': 'Biology'}\n",
      "{'date': 'October 25, 2018', 'type': 'Program', 'programName': 'Biomedical Laboratory Technology'}\n",
      "{'date': 'June 18, 2019', 'type': 'Discipline', 'programName': 'Chemistry'}\n",
      "{'date': 'August 8, 2018', 'type': 'Profile', 'programName': 'Child Studies'}\n",
      "{'date': 'August 28, 2018', 'type': 'Profile', 'programName': 'Cinema/Video/Communications'}\n",
      "{'date': 'August 8, 2018', 'type': 'Program', 'programName': 'Civil Engineering Technology'}\n",
      "{'date': 'June 18, 2019', 'type': 'Discipline', 'programName': 'Classics'}\n",
      "{'date': 'June 18, 2019', 'type': 'Profile', 'programName': 'Commerce'}\n",
      "{'date': 'August 8, 2018', 'type': 'Program', 'programName': 'Community Recreation Leadership Training'}\n",
      "{'date': 'June 18, 2019', 'type': 'Program', 'programName': 'Computer Science Technology'}\n",
      "{'date': 'August 8, 2018', 'type': 'Program', 'programName': 'Developmental Science'}\n",
      "{'date': 'June 18, 2019', 'type': 'Program', 'programName': 'Diagnostic Imaging'}\n",
      "{'date': 'November 19, 2015', 'type': 'Discipline', 'programName': 'Economics'}\n",
      "{'date': 'June 18, 2019', 'type': 'Program', 'programName': 'Electronics Engineering Technology'}\n",
      "{'date': 'August 20, 2014', 'type': 'Program', 'programName': 'Electronics Engineering Technology – Computer and Networks'}\n",
      "{'date': 'August 20, 2014', 'type': 'Program', 'programName': 'Electronics Engineering Technology – Telecommunications'}\n",
      "{'date': 'June 19, 2019', 'type': 'General Education', 'programName': 'English'}\n",
      "{'date': 'June 18, 2019', 'type': 'Profile', 'programName': 'Environmental Science'}\n",
      "{'date': 'November 20, 2018', 'type': 'Profile', 'programName': 'Environmental Studies'}\n",
      "{'date': 'August 8, 2018', 'type': 'Program', 'programName': 'Explorations Science'}\n",
      "{'date': 'June 14, 2018', 'type': 'General Education', 'programName': 'French'}\n",
      "{'date': 'June 18, 2019', 'type': 'Profile', 'programName': 'General Social Science'}\n",
      "{'date': 'November 19, 2015', 'type': 'Discipline', 'programName': 'Geography'}\n",
      "{'date': 'August 15, 2017', 'type': 'Discipline', 'programName': 'Geology'}\n",
      "{'date': 'August 8, 2018', 'type': 'Program', 'programName': 'Graphic Design'}\n",
      "{'programName': 'Health Science', 'type': 'Profile'}\n",
      "{'date': 'August 8, 2018', 'type': 'Profile', 'programName': 'Health Science'}\n",
      "{'date': 'November 15, 2016', 'type': 'Special Area of Study', 'programName': 'Hellenic Studies'}\n",
      "{'date': 'June 18, 2019', 'type': 'Discipline', 'programName': 'History'}\n",
      "{'date': 'June 14, 2018', 'type': 'General Education', 'programName': 'Humanities'}\n",
      "{'date': 'August 8, 2018', 'type': 'Program', 'programName': 'Illustration'}\n",
      "{'date': 'June 19, 2019', 'type': 'Program', 'programName': 'Industrial Design'}\n",
      "{'date': 'August 28, 2018', 'type': 'Profile', 'programName': 'Interactive Media Arts'}\n",
      "{'date': 'February 25, 2019', 'type': 'Program', 'programName': 'Interior Design'}\n",
      "{'date': 'August 8, 2018', 'type': 'Profile', 'programName': 'International Business'}\n",
      "{'date': 'November 11, 2015', 'type': 'Special Area of Study', 'programName': 'Jewish Studies'}\n",
      "{'date': 'April 24, 2019', 'type': 'Program', 'programName': 'Laboratory Technology – Analytical Chemistry'}\n",
      "{'date': 'August 28, 2018', 'type': 'Profile', 'programName': 'Languages'}\n",
      "{'date': 'August 8, 2018', 'type': 'Profile', 'programName': 'Law, Society and Justice'}\n",
      "{'date': 'August 8, 2018', 'type': 'Program', 'programName': 'Liberal Arts'}\n",
      "{'date': 'August 28, 2018', 'type': 'Profile', 'programName': 'Literature'}\n",
      "{'date': 'August 8, 2018', 'type': 'Program', 'programName': 'Marketing and Management Technology'}\n",
      "{'date': 'June 18, 2019', 'type': 'Discipline', 'programName': 'Mathematics'}\n",
      "{'date': 'July 28, 2014', 'type': 'Program', 'programName': 'Mechanical Engineering Technology – Automated Manufacturing'}\n",
      "{'date': 'July 28, 2014', 'type': 'Program', 'programName': 'Mechanical Engineering Technology – Design'}\n",
      "{'date': 'June 14, 2018', 'type': 'Discipline', 'programName': 'Modern Languages'}\n",
      "{'date': 'June 19, 2019', 'type': 'Discipline', 'programName': 'Multidisciplinary (Methods & Others)'}\n",
      "{'date': 'June 14, 2018', 'type': 'Discipline', 'programName': 'Music'}\n",
      "{'date': 'June 19, 2019', 'type': 'Special Area of Study', 'programName': 'New School'}\n",
      "{'date': 'June 18, 2019', 'type': 'Profile', 'programName': 'North South Studies'}\n",
      "{'date': 'June 21, 2019', 'type': 'Program', 'programName': 'Nursing'}\n",
      "{'date': 'February 14, 2019', 'type': 'Discipline', 'programName': 'Philosophy'}\n",
      "{'date': 'June 18, 2019', 'type': 'General Education', 'programName': 'Physical Education'}\n",
      "{'date': 'August 8, 2018', 'type': 'Program', 'programName': 'Physiotherapy Technology'}\n",
      "{'date': 'February 22, 2019', 'type': 'Discipline', 'programName': 'Physics'}\n",
      "{'date': 'June 18, 2019', 'type': 'Discipline', 'programName': 'Political Science'}\n",
      "{'date': 'August 8, 2018', 'type': 'Program', 'programName': 'Professional Photography'}\n",
      "{'date': 'June 7, 2019', 'type': 'Program', 'programName': 'Professional Theatre'}\n",
      "{'date': 'June 19, 2019', 'type': 'Discipline', 'programName': 'Psychology'}\n",
      "{'date': 'June 19, 2019', 'type': 'Profile', 'programName': 'Psychology'}\n",
      "{'date': 'August 8, 2018', 'type': 'Profile', 'programName': 'Pure and Applied Science'}\n",
      "{'date': 'October 22, 2018', 'type': 'Profile', 'programName': 'Pure and Applied Science'}\n",
      "{'date': 'June 18, 2019', 'type': 'Program', 'programName': 'Radiation Oncology'}\n",
      "{'date': 'August 8, 2018', 'type': 'Special Area of Study', 'programName': 'Reflections'}\n",
      "{'date': 'June 8, 2016', 'type': 'Discipline', 'programName': 'Religion'}\n",
      "{'date': 'June 18, 2019', 'type': 'Program', 'programName': 'Social Science'}\n",
      "{'date': 'August 8, 2018', 'type': 'Program', 'programName': 'Social Service'}\n",
      "{'date': 'June 18, 2019', 'type': 'Discipline', 'programName': 'Sociology'}\n"
     ]
    }
   ],
   "source": [
    "    #This is just to make it so the request goes through and the Dawson website does not decline it \n",
    "    headers = {\n",
    "    'user-agent': 'Mozilla/5.0 (Macintosh; Intel Mac OS X 10_11_6) AppleWebKit/537.36 (KHTML, like Gecko) Chrome/56.0.2924.87 Safari/537.36',\n",
    "    'referrer': 'https://google.com'\n",
    "    }\n",
    "    \n",
    "    url = 'https://www.dawsoncollege.qc.ca/programs'\n",
    "    \n",
    "    # URL of program page for pure and applied\n",
    "    r = requests.get(url, headers=headers)\n",
    "    \n",
    "    # Get HTML of the page\n",
    "    html = r.text.strip()\n",
    "    \n",
    "    # Make html of page a BeautifulSoup \n",
    "    soup = BeautifulSoup(html, 'lxml')\n",
    "    \n",
    "    content = soup.find(class_='entry-content')\n",
    "    \n",
    "    #Get all the rows\n",
    "    trTags = content.find_all('tr')\n",
    "    \n",
    "    #Loop through each row\n",
    "    for tr in trTags:\n",
    "        \n",
    "        #Means a program continue (not a heading)\n",
    "        if(tr.find(class_='program-name')):\n",
    "            #Get program url \n",
    "            programUrlEnd = tr.find(class_='program-name').find('a')['href']\n",
    "            #Not an actual program \n",
    "            if programUrlEnd == '/programs/general-education':\n",
    "                continue\n",
    "            programUrl = 'https://www.dawsoncollege.qc.ca/' + programUrlEnd\n",
    "            #Get page info\n",
    "            pageInfo = parseProgramPage(programUrl)\n",
    "            #Add program type\n",
    "            #If 404 means page was not found so just have name and type\n",
    "            if (pageInfo == '404'):\n",
    "                pageInfo = {\n",
    "                \n",
    "                    'programName': tr.find(class_='program-name').find('a').contents[0].strip(),\n",
    "                }\n",
    "            if tr.find(class_='program-type'):\n",
    "                try:\n",
    "                    pageInfo['type'] = tr.find(class_='program-type').contents[0].strip()\n",
    "                #Since not a program and details are not present just continue\n",
    "                except: \n",
    "                    continue\n",
    "            pageInfo['programName'] = tr.find(class_='program-name').find('a').contents[0].strip()\n",
    "            programs.append(pageInfo)\n",
    "            print(pageInfo)\n",
    "    print('Finished extracting')\n",
    "    "
   ]
  },
  {
   "cell_type": "code",
   "execution_count": null,
   "metadata": {},
   "outputs": [],
   "source": []
  },
  {
   "cell_type": "code",
   "execution_count": null,
   "metadata": {},
   "outputs": [],
   "source": []
  }
 ],
 "metadata": {
  "kernelspec": {
   "display_name": "Python 3",
   "language": "python",
   "name": "python3"
  },
  "language_info": {
   "codemirror_mode": {
    "name": "ipython",
    "version": 3
   },
   "file_extension": ".py",
   "mimetype": "text/x-python",
   "name": "python",
   "nbconvert_exporter": "python",
   "pygments_lexer": "ipython3",
   "version": "3.7.1"
  }
 },
 "nbformat": 4,
 "nbformat_minor": 2
}
