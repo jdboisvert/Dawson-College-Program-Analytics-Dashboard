{
 "cells": [
  {
   "cell_type": "markdown",
   "metadata": {},
   "source": [
    "# Web Scaping"
   ]
  },
  {
   "cell_type": "markdown",
   "metadata": {},
   "source": [
    "## Scraping a single page - Tests"
   ]
  },
  {
   "cell_type": "code",
   "execution_count": 4,
   "metadata": {},
   "outputs": [],
   "source": [
    "import requests\n",
    "from bs4 import BeautifulSoup\n",
    "from dateutil import parser \n",
    "import textstat"
   ]
  },
  {
   "cell_type": "code",
   "execution_count": 5,
   "metadata": {},
   "outputs": [],
   "source": [
    "#This is just to make it so the request goes through and the Dawson website does not decline it \n",
    "headers = {\n",
    "    'user-agent': 'Mozilla/5.0 (Macintosh; Intel Mac OS X 10_11_6) AppleWebKit/537.36 (KHTML, like Gecko) Chrome/56.0.2924.87 Safari/537.36',\n",
    "    'referrer': 'https://google.com'\n",
    "}"
   ]
  },
  {
   "cell_type": "code",
   "execution_count": 6,
   "metadata": {},
   "outputs": [],
   "source": [
    "# URL of program page for pure and applied\n",
    "url = 'https://www.dawsoncollege.qc.ca/pure-applied/'\n",
    "r = requests.get(url, headers=headers)"
   ]
  },
  {
   "cell_type": "code",
   "execution_count": 8,
   "metadata": {},
   "outputs": [
    {
     "data": {
      "text/plain": [
       "200"
      ]
     },
     "execution_count": 8,
     "metadata": {},
     "output_type": "execute_result"
    }
   ],
   "source": [
    "# Status code is 200 means all is good and request went through\n",
    "r.status_code"
   ]
  },
  {
   "cell_type": "code",
   "execution_count": 10,
   "metadata": {},
   "outputs": [],
   "source": [
    "# Get HTML of the page\n",
    "html = r.text.strip()"
   ]
  },
  {
   "cell_type": "code",
   "execution_count": 13,
   "metadata": {},
   "outputs": [],
   "source": [
    "# Make html of page a BeautifulSoup \n",
    "soup = BeautifulSoup(html, 'lxml')"
   ]
  },
  {
   "cell_type": "code",
   "execution_count": 24,
   "metadata": {},
   "outputs": [
    {
     "name": "stdout",
     "output_type": "stream",
     "text": [
      "Pure & Applied Science (200.P2)\n"
     ]
    }
   ],
   "source": [
    "# Header Content of page\n",
    "content = soup.find(class_='entry-content')\n",
    "#Get program title and strip any white spaces\n",
    "programTitle = content.find('h2').contents[0].strip()"
   ]
  },
  {
   "cell_type": "code",
   "execution_count": 38,
   "metadata": {},
   "outputs": [
    {
     "name": "stdout",
     "output_type": "stream",
     "text": [
      "August 8, 2018\n"
     ]
    }
   ],
   "source": [
    "# Get when last modified\n",
    "dateModified = soup.find(class_='page-mod-date').contents[0].strip()\n",
    "# Remove the 'Last Modified: ' field so just date is left\n",
    "dateModified = dateModified[15:]\n",
    "print(dateModified)"
   ]
  },
  {
   "cell_type": "markdown",
   "metadata": {},
   "source": [
    "# Function to parse a single page"
   ]
  },
  {
   "cell_type": "code",
   "execution_count": 4,
   "metadata": {},
   "outputs": [],
   "source": [
    "# Parse a single Program page at Dawson College\n",
    "def parseProgramPage(url):\n",
    "    \n",
    "    #This is just to make it so the request goes through and the Dawson website does not decline it \n",
    "    headers = {\n",
    "    'user-agent': 'Mozilla/5.0 (Macintosh; Intel Mac OS X 10_11_6) AppleWebKit/537.36 (KHTML, like Gecko) Chrome/56.0.2924.87 Safari/537.36',\n",
    "    'referrer': 'https://google.com'\n",
    "    }\n",
    "    \n",
    "    # URL of program page for pure and applied\n",
    "    url = 'https://www.dawsoncollege.qc.ca/pure-applied/'\n",
    "    r = requests.get(url, headers=headers)\n",
    "    \n",
    "    # Get HTML of the page\n",
    "    html = r.text.strip()\n",
    "    \n",
    "    # Make html of page a BeautifulSoup \n",
    "    soup = BeautifulSoup(html, 'lxml')\n",
    "    \n",
    "    programName = getName(soup)\n",
    "    programDateMod = getDateOfMods(soup)\n",
    "    readingLevel = getReadingLevel(soup)\n",
    "    \n",
    "    #Page data to be returned\n",
    "    pageData = {\n",
    "        'programName': programName,\n",
    "        'date': programDateMod,\n",
    "        'readingLevel': readingLevel\n",
    "    }\n",
    "    \n",
    "    return pageData\n",
    "\n",
    "# Get reading level \n",
    "def getReadingLevel(soup):\n",
    "    content = soup.find(class_='entry-content')\n",
    "    readingLevel = textstat.flesch_kincaid_grade(content.text)\n",
    "    return reading_level\n",
    "    \n",
    "# Used to get name of program\n",
    "def getName(soup):\n",
    "    # Main content of page\n",
    "    content = soup.find(class_='entry-content')\n",
    "    #Get program title and strip any white spaces\n",
    "    programTitle = content.find('h2').contents[0].strip()\n",
    "    return programTitle\n",
    "\n",
    "#Get the date of when the page was last modified\n",
    "def getDateOfMods(soup):\n",
    "    # Get when last modified\n",
    "    dateModified = soup.find(class_='page-mod-date').contents[0].strip()\n",
    "    # Remove the 'Last Modified: ' field so just date is left\n",
    "    dateModified = dateModified[15:]\n",
    "    return dateModified\n",
    "    "
   ]
  },
  {
   "cell_type": "code",
   "execution_count": null,
   "metadata": {},
   "outputs": [],
   "source": []
  }
 ],
 "metadata": {
  "kernelspec": {
   "display_name": "Python 3",
   "language": "python",
   "name": "python3"
  },
  "language_info": {
   "codemirror_mode": {
    "name": "ipython",
    "version": 3
   },
   "file_extension": ".py",
   "mimetype": "text/x-python",
   "name": "python",
   "nbconvert_exporter": "python",
   "pygments_lexer": "ipython3",
   "version": "3.7.1"
  }
 },
 "nbformat": 4,
 "nbformat_minor": 2
}
