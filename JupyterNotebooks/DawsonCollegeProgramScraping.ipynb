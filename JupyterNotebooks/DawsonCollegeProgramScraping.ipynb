{
 "cells": [
  {
   "cell_type": "markdown",
   "metadata": {},
   "source": [
    "# Web Scaping"
   ]
  },
  {
   "cell_type": "markdown",
   "metadata": {},
   "source": [
    "## Scraping a single page - Tests"
   ]
  },
  {
   "cell_type": "code",
   "execution_count": 1,
   "metadata": {},
   "outputs": [],
   "source": [
    "import requests\n",
    "from bs4 import BeautifulSoup\n",
    "from dateutil import parser "
   ]
  },
  {
   "cell_type": "code",
   "execution_count": 2,
   "metadata": {},
   "outputs": [],
   "source": [
    "#This is just to make it so the request goes through and the Dawson website does not decline it \n",
    "headers = {\n",
    "    'user-agent': 'Mozilla/5.0 (Macintosh; Intel Mac OS X 10_11_6) AppleWebKit/537.36 (KHTML, like Gecko) Chrome/56.0.2924.87 Safari/537.36',\n",
    "    'referrer': 'https://google.com'\n",
    "}"
   ]
  },
  {
   "cell_type": "code",
   "execution_count": 3,
   "metadata": {},
   "outputs": [],
   "source": [
    "# URL of program page for pure and applied\n",
    "url = 'https://www.dawsoncollege.qc.ca/pure-applied/'\n",
    "r = requests.get(url, headers=headers)"
   ]
  },
  {
   "cell_type": "code",
   "execution_count": 4,
   "metadata": {},
   "outputs": [
    {
     "data": {
      "text/plain": [
       "200"
      ]
     },
     "execution_count": 4,
     "metadata": {},
     "output_type": "execute_result"
    }
   ],
   "source": [
    "# Status code is 200 means all is good and request went through\n",
    "r.status_code"
   ]
  },
  {
   "cell_type": "code",
   "execution_count": 5,
   "metadata": {},
   "outputs": [],
   "source": [
    "# Get HTML of the page\n",
    "html = r.text.strip()"
   ]
  },
  {
   "cell_type": "code",
   "execution_count": 6,
   "metadata": {},
   "outputs": [],
   "source": [
    "# Make html of page a BeautifulSoup \n",
    "soup = BeautifulSoup(html, 'lxml')"
   ]
  },
  {
   "cell_type": "code",
   "execution_count": 7,
   "metadata": {},
   "outputs": [],
   "source": [
    "# Header Content of page\n",
    "content = soup.find(class_='entry-content')\n",
    "#Get program title and strip any white spaces\n",
    "programTitle = content.find('h2').contents[0].strip()"
   ]
  },
  {
   "cell_type": "code",
   "execution_count": 8,
   "metadata": {},
   "outputs": [
    {
     "name": "stdout",
     "output_type": "stream",
     "text": [
      "August 8, 2018\n"
     ]
    }
   ],
   "source": [
    "# Get when last modified\n",
    "dateModified = soup.find(class_='page-mod-date').contents[0].strip()\n",
    "# Remove the 'Last Modified: ' field so just date is left\n",
    "dateModified = dateModified[15:]\n",
    "print(dateModified)"
   ]
  },
  {
   "cell_type": "markdown",
   "metadata": {},
   "source": [
    "## Function to parse a single page"
   ]
  },
  {
   "cell_type": "code",
   "execution_count": 9,
   "metadata": {},
   "outputs": [],
   "source": [
    "# Parse a single Program page at Dawson College\n",
    "def parseProgramPage(url):\n",
    "    \n",
    "    #This is just to make it so the request goes through and the Dawson website does not decline it \n",
    "    headers = {\n",
    "    'user-agent': 'Mozilla/5.0 (Macintosh; Intel Mac OS X 10_11_6) AppleWebKit/537.36 (KHTML, like Gecko) Chrome/56.0.2924.87 Safari/537.36',\n",
    "    'referrer': 'https://google.com'\n",
    "    }\n",
    "    \n",
    "    # URL of program page for pure and applied\n",
    "    r = requests.get(url, headers=headers)\n",
    "    \n",
    "    print(r.status_code)\n",
    "    \n",
    "    if (r.status_code == requests.codes.ok):\n",
    "    \n",
    "        # Get HTML of the page\n",
    "        html = r.text.strip()\n",
    "\n",
    "        # Make html of page a BeautifulSoup \n",
    "        soup = BeautifulSoup(html, 'lxml')\n",
    "    \n",
    "        programName = getName(soup)\n",
    "        programDateMod = getDateOfMods(soup)\n",
    "    \n",
    "        #Page data to be returned\n",
    "        pageData = {\n",
    "            'programName': programName,\n",
    "            'date': programDateMod,\n",
    "        }\n",
    "    \n",
    "        return pageData\n",
    "    else: \n",
    "        return '404'\n",
    "    \n",
    "# Used to get name of program\n",
    "def getName(soup):\n",
    "    # Main content of page\n",
    "    content = soup.find(class_='entry-content')\n",
    "    #Get program title and strip any white spaces\n",
    "    programTitle = content.find('h2').contents[0].strip()\n",
    "    return programTitle\n",
    "\n",
    "#Get the date of when the page was last modified\n",
    "def getDateOfMods(soup):\n",
    "    # Get when last modified\n",
    "    dateModified = soup.find(class_='page-mod-date').contents[0].strip()\n",
    "    # Remove the 'Last Modified: ' field so just date is left\n",
    "    dateModified = dateModified[15:]\n",
    "    return dateModified\n",
    "    "
   ]
  },
  {
   "cell_type": "markdown",
   "metadata": {},
   "source": [
    "## Functions to parse all of the programs"
   ]
  },
  {
   "cell_type": "code",
   "execution_count": 10,
   "metadata": {},
   "outputs": [],
   "source": [
    "# An array to hold all the programs retrieved\n",
    "programs = []"
   ]
  },
  {
   "cell_type": "markdown",
   "metadata": {},
   "source": [
    "### Testing"
   ]
  },
  {
   "cell_type": "code",
   "execution_count": 11,
   "metadata": {},
   "outputs": [
    {
     "name": "stdout",
     "output_type": "stream",
     "text": [
      "https://www.dawsoncollege.qc.ca//3d/\n",
      "200\n"
     ]
    },
    {
     "ename": "NameError",
     "evalue": "name 'getReadingLevel' is not defined",
     "output_type": "error",
     "traceback": [
      "\u001b[1;31m---------------------------------------------------------------------------\u001b[0m",
      "\u001b[1;31mNameError\u001b[0m                                 Traceback (most recent call last)",
      "\u001b[1;32m<ipython-input-11-e226284f6d74>\u001b[0m in \u001b[0;36m<module>\u001b[1;34m\u001b[0m\n\u001b[0;32m     31\u001b[0m         \u001b[0mprint\u001b[0m\u001b[1;33m(\u001b[0m\u001b[0mprogramUrl\u001b[0m\u001b[1;33m)\u001b[0m\u001b[1;33m\u001b[0m\u001b[1;33m\u001b[0m\u001b[0m\n\u001b[0;32m     32\u001b[0m         \u001b[1;31m#Get page info\u001b[0m\u001b[1;33m\u001b[0m\u001b[1;33m\u001b[0m\u001b[1;33m\u001b[0m\u001b[0m\n\u001b[1;32m---> 33\u001b[1;33m         \u001b[0mpageInfo\u001b[0m \u001b[1;33m=\u001b[0m \u001b[0mparseProgramPage\u001b[0m\u001b[1;33m(\u001b[0m\u001b[0mprogramUrl\u001b[0m\u001b[1;33m)\u001b[0m\u001b[1;33m\u001b[0m\u001b[1;33m\u001b[0m\u001b[0m\n\u001b[0m\u001b[0;32m     34\u001b[0m         \u001b[0mprint\u001b[0m\u001b[1;33m(\u001b[0m\u001b[0mpageInfo\u001b[0m\u001b[1;33m)\u001b[0m\u001b[1;33m\u001b[0m\u001b[1;33m\u001b[0m\u001b[0m\n\u001b[0;32m     35\u001b[0m         \u001b[1;31m#Add program type\u001b[0m\u001b[1;33m\u001b[0m\u001b[1;33m\u001b[0m\u001b[1;33m\u001b[0m\u001b[0m\n",
      "\u001b[1;32m<ipython-input-9-4aacef054008>\u001b[0m in \u001b[0;36mparseProgramPage\u001b[1;34m(url)\u001b[0m\n\u001b[0;32m     23\u001b[0m         \u001b[0mprogramName\u001b[0m \u001b[1;33m=\u001b[0m \u001b[0mgetName\u001b[0m\u001b[1;33m(\u001b[0m\u001b[0msoup\u001b[0m\u001b[1;33m)\u001b[0m\u001b[1;33m\u001b[0m\u001b[1;33m\u001b[0m\u001b[0m\n\u001b[0;32m     24\u001b[0m         \u001b[0mprogramDateMod\u001b[0m \u001b[1;33m=\u001b[0m \u001b[0mgetDateOfMods\u001b[0m\u001b[1;33m(\u001b[0m\u001b[0msoup\u001b[0m\u001b[1;33m)\u001b[0m\u001b[1;33m\u001b[0m\u001b[1;33m\u001b[0m\u001b[0m\n\u001b[1;32m---> 25\u001b[1;33m         \u001b[0mreadingLevel\u001b[0m \u001b[1;33m=\u001b[0m \u001b[0mgetReadingLevel\u001b[0m\u001b[1;33m(\u001b[0m\u001b[0msoup\u001b[0m\u001b[1;33m)\u001b[0m\u001b[1;33m\u001b[0m\u001b[1;33m\u001b[0m\u001b[0m\n\u001b[0m\u001b[0;32m     26\u001b[0m \u001b[1;33m\u001b[0m\u001b[0m\n\u001b[0;32m     27\u001b[0m         \u001b[1;31m#Page data to be returned\u001b[0m\u001b[1;33m\u001b[0m\u001b[1;33m\u001b[0m\u001b[1;33m\u001b[0m\u001b[0m\n",
      "\u001b[1;31mNameError\u001b[0m: name 'getReadingLevel' is not defined"
     ]
    }
   ],
   "source": [
    "    #This is just to make it so the request goes through and the Dawson website does not decline it \n",
    "    headers = {\n",
    "    'user-agent': 'Mozilla/5.0 (Macintosh; Intel Mac OS X 10_11_6) AppleWebKit/537.36 (KHTML, like Gecko) Chrome/56.0.2924.87 Safari/537.36',\n",
    "    'referrer': 'https://google.com'\n",
    "    }\n",
    "    \n",
    "    url = 'https://www.dawsoncollege.qc.ca/programs'\n",
    "    \n",
    "    # URL of program page for pure and applied\n",
    "    r = requests.get(url, headers=headers)\n",
    "    \n",
    "    # Get HTML of the page\n",
    "    html = r.text.strip()\n",
    "    \n",
    "    # Make html of page a BeautifulSoup \n",
    "    soup = BeautifulSoup(html, 'lxml')\n",
    "    \n",
    "    content = soup.find(class_='entry-content')\n",
    "    \n",
    "    #Get all the rows\n",
    "    trTags = content.find_all('tr')\n",
    "    \n",
    "    #Loop through each row\n",
    "    for tr in trTags:\n",
    "        \n",
    "        #Means a program continue (not a heading)\n",
    "        if(tr.find(class_='program-name')):\n",
    "            #Get program url \n",
    "            programUrlEnd = tr.find(class_='program-name').find('a')['href']\n",
    "            programUrl = 'https://www.dawsoncollege.qc.ca/' + programUrlEnd\n",
    "            print(programUrl)\n",
    "            #Get page info\n",
    "            pageInfo = parseProgramPage(programUrl)\n",
    "            print(pageInfo)\n",
    "            #Add program type\n",
    "            #If 404 means page was not found so just have name and type\n",
    "            if (pageInfo == '404'):\n",
    "                pageInfo = {\n",
    "                \n",
    "                    'programName': tr.find(class_='program-name').find('a').contents[0].strip()\n",
    "                \n",
    "                }\n",
    "            #print(pageInfo)\n",
    "            pageInfo['type'] = tr.find(class_='program-type').contents[0].strip()\n",
    "            programs.append(pageInfo)\n",
    "    "
   ]
  },
  {
   "cell_type": "code",
   "execution_count": null,
   "metadata": {},
   "outputs": [],
   "source": []
  }
 ],
 "metadata": {
  "kernelspec": {
   "display_name": "Python 3",
   "language": "python",
   "name": "python3"
  },
  "language_info": {
   "codemirror_mode": {
    "name": "ipython",
    "version": 3
   },
   "file_extension": ".py",
   "mimetype": "text/x-python",
   "name": "python",
   "nbconvert_exporter": "python",
   "pygments_lexer": "ipython3",
   "version": "3.7.1"
  }
 },
 "nbformat": 4,
 "nbformat_minor": 2
}
